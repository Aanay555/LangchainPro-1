{
  "nbformat": 4,
  "nbformat_minor": 0,
  "metadata": {
    "colab": {
      "provenance": []
    },
    "kernelspec": {
      "name": "python3",
      "display_name": "Python 3"
    },
    "language_info": {
      "name": "python"
    }
  },
  "cells": [
    {
      "cell_type": "markdown",
      "source": [],
      "metadata": {
        "id": "jkZOt1EKDdWR"
      }
    },
    {
      "cell_type": "markdown",
      "source": [
        "**LangChain HelloWorld using GOOGLE API Key**"
      ],
      "metadata": {
        "id": "Tq_NcxaqDfGV"
      }
    },
    {
      "cell_type": "code",
      "source": [
        "import IPython"
      ],
      "metadata": {
        "id": "ZOOlYwZ2V9zd"
      },
      "execution_count": 9,
      "outputs": []
    },
    {
      "cell_type": "code",
      "source": [
        "app = IPython.Application.instance()"
      ],
      "metadata": {
        "id": "4sxbQPeIWCVs"
      },
      "execution_count": 10,
      "outputs": []
    },
    {
      "cell_type": "code",
      "source": [
        "app.kernel.do_shutdown(True)"
      ],
      "metadata": {
        "colab": {
          "base_uri": "https://localhost:8080/"
        },
        "id": "tfuF_zU_WHO8",
        "outputId": "645e7ae5-55d0-4c20-d8ea-8399531177dc"
      },
      "execution_count": 11,
      "outputs": [
        {
          "output_type": "execute_result",
          "data": {
            "text/plain": [
              "{'status': 'ok', 'restart': True}"
            ]
          },
          "metadata": {},
          "execution_count": 11
        }
      ]
    },
    {
      "cell_type": "code",
      "source": [
        "import textwrap\n",
        "from IPython.display import Markdown\n",
        "def to_markdown(text) -> Markdown:\n",
        "\n",
        "    text: str = text.replace(\"•\", \"  *\")\n",
        "    return Markdown(textwrap.indent(text, \"> \", predicate=lambda _: True))"
      ],
      "metadata": {
        "id": "gj6pGiYBFFpW"
      },
      "execution_count": 8,
      "outputs": []
    },
    {
      "cell_type": "code",
      "source": [
        "from google.colab import userdata"
      ],
      "metadata": {
        "id": "8Im2UzfAUul3"
      },
      "execution_count": null,
      "outputs": []
    },
    {
      "cell_type": "code",
      "source": [
        "%pip install -q -U langchain"
      ],
      "metadata": {
        "colab": {
          "base_uri": "https://localhost:8080/"
        },
        "id": "nGVf8ZxRDpqW",
        "outputId": "bb345819-e90b-47a0-8e42-34d94891279a"
      },
      "execution_count": 2,
      "outputs": [
        {
          "output_type": "stream",
          "name": "stdout",
          "text": [
            "\u001b[2K   \u001b[90m━━━━━━━━━━━━━━━━━━━━━━━━━━━━━━━━━━━━━━━━\u001b[0m \u001b[32m1.0/1.0 MB\u001b[0m \u001b[31m12.7 MB/s\u001b[0m eta \u001b[36m0:00:00\u001b[0m\n",
            "\u001b[2K   \u001b[90m━━━━━━━━━━━━━━━━━━━━━━━━━━━━━━━━━━━━━━━━\u001b[0m \u001b[32m411.6/411.6 kB\u001b[0m \u001b[31m18.8 MB/s\u001b[0m eta \u001b[36m0:00:00\u001b[0m\n",
            "\u001b[?25h"
          ]
        }
      ]
    },
    {
      "cell_type": "code",
      "source": [
        "%pip install -q -U langchain-google-genai"
      ],
      "metadata": {
        "colab": {
          "base_uri": "https://localhost:8080/"
        },
        "id": "P19xVqWwD2LW",
        "outputId": "f94f010f-f596-423a-8725-8dc7446c3af1"
      },
      "execution_count": 3,
      "outputs": [
        {
          "output_type": "stream",
          "name": "stdout",
          "text": [
            "\u001b[?25l   \u001b[90m━━━━━━━━━━━━━━━━━━━━━━━━━━━━━━━━━━━━━━━━\u001b[0m \u001b[32m0.0/41.3 kB\u001b[0m \u001b[31m?\u001b[0m eta \u001b[36m-:--:--\u001b[0m\r\u001b[2K   \u001b[90m━━━━━━━━━━━━━━━━━━━━━━━━━━━━━━━━━━━━━━━━\u001b[0m \u001b[32m41.3/41.3 kB\u001b[0m \u001b[31m1.7 MB/s\u001b[0m eta \u001b[36m0:00:00\u001b[0m\n",
            "\u001b[?25h"
          ]
        }
      ]
    },
    {
      "cell_type": "code",
      "source": [
        "\n",
        "google_api_key = userdata.get('GOOGLE_API_KEY_1')\n"
      ],
      "metadata": {
        "id": "I1fyKzbmRC5S"
      },
      "execution_count": 4,
      "outputs": []
    },
    {
      "cell_type": "code",
      "source": [
        "from langchain_google_genai import ChatGoogleGenerativeAI"
      ],
      "metadata": {
        "id": "Gi9v__tRR5dq"
      },
      "execution_count": 5,
      "outputs": []
    },
    {
      "cell_type": "code",
      "source": [
        "from langchain_core.messages.ai import AIMessage"
      ],
      "metadata": {
        "id": "DIcqHDvbSW0B"
      },
      "execution_count": 6,
      "outputs": []
    },
    {
      "cell_type": "code",
      "source": [
        "llm: ChatGoogleGenerativeAI = ChatGoogleGenerativeAI(\n",
        "    model=\"gemini-1.5-flash\",\n",
        "      api_key=google_api_key,\n",
        "     temperature=0.2,\n",
        ")"
      ],
      "metadata": {
        "id": "Cz5E9NJrSbJh"
      },
      "execution_count": 7,
      "outputs": []
    },
    {
      "cell_type": "code",
      "source": [
        "ai_msg: AIMessage = llm.invoke(\"What is Agentic AI?\")"
      ],
      "metadata": {
        "id": "WENbtd7xTQt6"
      },
      "execution_count": 8,
      "outputs": []
    },
    {
      "cell_type": "code",
      "source": [
        "ai_msg"
      ],
      "metadata": {
        "colab": {
          "base_uri": "https://localhost:8080/"
        },
        "collapsed": true,
        "id": "jKtzaXN1TVIh",
        "outputId": "4b8a56dc-20b0-448f-b255-b17924a7740c"
      },
      "execution_count": 9,
      "outputs": [
        {
          "output_type": "execute_result",
          "data": {
            "text/plain": [
              "AIMessage(content=\"Agentic AI refers to artificial intelligence systems that are capable of independent action in the world.  Unlike reactive AI, which simply responds to inputs, or planning AI, which creates plans but doesn't execute them autonomously, agentic AI actively pursues goals and adapts its behavior to achieve them.  This involves several key characteristics:\\n\\n* **Autonomy:** Agentic AI systems can operate without constant human intervention. They can make decisions and take actions based on their own internal models and perceptions of the environment.\\n\\n* **Goal-directed behavior:** They have clearly defined goals or objectives that they strive to achieve.  These goals can be pre-programmed or learned through interaction with the environment.\\n\\n* **Proactive behavior:**  They don't just react to stimuli; they actively seek out opportunities and initiate actions to achieve their goals.  This includes planning, problem-solving, and adapting to changing circumstances.\\n\\n* **Learning and adaptation:**  Effective agentic AI systems can learn from their experiences and adapt their strategies to improve their performance over time.  This often involves reinforcement learning or other machine learning techniques.\\n\\n* **Embodiment (often, but not always):** While not strictly required, many examples of agentic AI involve physical robots or agents that interact directly with the physical world.  However, agentic AI can also exist purely in the digital realm, such as an AI managing a complex system or trading stocks.\\n\\n\\nExamples of agentic AI (or systems moving towards it) include:\\n\\n* **Self-driving cars:**  These aim to navigate roads and reach destinations autonomously.\\n* **Robotics in manufacturing:** Robots that perform complex tasks on assembly lines with minimal human supervision.\\n* **AI game-playing agents:**  Agents that play games like chess or Go, strategically planning their moves to win.\\n* **AI assistants that proactively manage tasks:**  These go beyond simple command following and anticipate user needs.\\n\\n\\nThe development of truly robust and safe agentic AI is a significant challenge, raising ethical concerns about accountability, unintended consequences, and the potential for misuse.  The ability of an AI to act independently introduces complexities not present in simpler AI systems.\\n\", additional_kwargs={}, response_metadata={'prompt_feedback': {'block_reason': 0, 'safety_ratings': []}, 'finish_reason': 'STOP', 'safety_ratings': []}, id='run-99e036cc-457a-472d-adb6-96a1a7e71ffa-0', usage_metadata={'input_tokens': 7, 'output_tokens': 442, 'total_tokens': 449, 'input_token_details': {'cache_read': 0}})"
            ]
          },
          "metadata": {},
          "execution_count": 9
        }
      ]
    },
    {
      "cell_type": "code",
      "source": [
        "ai_msg.content"
      ],
      "metadata": {
        "colab": {
          "base_uri": "https://localhost:8080/",
          "height": 140
        },
        "id": "unOI6hvnUCN3",
        "outputId": "5b8550ce-39aa-45c4-b97b-5c30755be020"
      },
      "execution_count": 10,
      "outputs": [
        {
          "output_type": "execute_result",
          "data": {
            "text/plain": [
              "\"Agentic AI refers to artificial intelligence systems that are capable of independent action in the world.  Unlike reactive AI, which simply responds to inputs, or planning AI, which creates plans but doesn't execute them autonomously, agentic AI actively pursues goals and adapts its behavior to achieve them.  This involves several key characteristics:\\n\\n* **Autonomy:** Agentic AI systems can operate without constant human intervention. They can make decisions and take actions based on their own internal models and perceptions of the environment.\\n\\n* **Goal-directed behavior:** They have clearly defined goals or objectives that they strive to achieve.  These goals can be pre-programmed or learned through interaction with the environment.\\n\\n* **Proactive behavior:**  They don't just react to stimuli; they actively seek out opportunities and initiate actions to achieve their goals.  This includes planning, problem-solving, and adapting to changing circumstances.\\n\\n* **Learning and adaptation:**  Effective agentic AI systems can learn from their experiences and adapt their strategies to improve their performance over time.  This often involves reinforcement learning or other machine learning techniques.\\n\\n* **Embodiment (often, but not always):** While not strictly required, many examples of agentic AI involve physical robots or agents that interact directly with the physical world.  However, agentic AI can also exist purely in the digital realm, such as an AI managing a complex system or trading stocks.\\n\\n\\nExamples of agentic AI (or systems moving towards it) include:\\n\\n* **Self-driving cars:**  These aim to navigate roads and reach destinations autonomously.\\n* **Robotics in manufacturing:** Robots that perform complex tasks on assembly lines with minimal human supervision.\\n* **AI game-playing agents:**  Agents that play games like chess or Go, strategically planning their moves to win.\\n* **AI assistants that proactively manage tasks:**  These go beyond simple command following and anticipate user needs.\\n\\n\\nThe development of truly robust and safe agentic AI is a significant challenge, raising ethical concerns about accountability, unintended consequences, and the potential for misuse.  The ability of an AI to act independently introduces complexities not present in simpler AI systems.\\n\""
            ],
            "application/vnd.google.colaboratory.intrinsic+json": {
              "type": "string"
            }
          },
          "metadata": {},
          "execution_count": 10
        }
      ]
    },
    {
      "cell_type": "code",
      "source": [
        "import textwrap\n",
        "from IPython.display import Markdown\n",
        "def to_markdown(text) -> Markdown:\n",
        "\n",
        "    text: str = text.replace(\"•\", \"  *\")\n",
        "    return Markdown(textwrap.indent(text, \"> \", predicate=lambda _: True))"
      ],
      "metadata": {
        "id": "famw5OltGKUk"
      },
      "execution_count": 13,
      "outputs": []
    },
    {
      "cell_type": "code",
      "source": [
        "to_markdown(ai_msg.content)"
      ],
      "metadata": {
        "id": "PfMC14BdGP4i",
        "outputId": "f7645f63-8215-4c31-9fa6-9d30baef12a9",
        "colab": {
          "base_uri": "https://localhost:8080/",
          "height": 458
        }
      },
      "execution_count": 14,
      "outputs": [
        {
          "output_type": "execute_result",
          "data": {
            "text/plain": [
              "<IPython.core.display.Markdown object>"
            ],
            "text/markdown": "> Agentic AI refers to artificial intelligence systems that are capable of independent action in the world.  Unlike reactive AI, which simply responds to inputs, or planning AI, which creates plans but doesn't execute them autonomously, agentic AI actively pursues goals and adapts its behavior to achieve them.  This involves several key characteristics:\n> \n> * **Autonomy:** Agentic AI systems can operate without constant human intervention. They can make decisions and take actions based on their own internal models and perceptions of the environment.\n> \n> * **Goal-directed behavior:** They have clearly defined goals or objectives that they strive to achieve.  These goals can be pre-programmed or learned through interaction with the environment.\n> \n> * **Proactive behavior:**  They don't just react to stimuli; they actively seek out opportunities and initiate actions to achieve their goals.  This includes planning, problem-solving, and adapting to changing circumstances.\n> \n> * **Learning and adaptation:**  Effective agentic AI systems can learn from their experiences and adapt their strategies to improve their performance over time.  This often involves reinforcement learning or other machine learning techniques.\n> \n> * **Embodiment (often, but not always):** While not strictly required, many examples of agentic AI involve physical robots or agents that interact directly with the physical world.  However, agentic AI can also exist purely in the digital realm, such as an AI managing a complex system or trading stocks.\n> \n> \n> Examples of agentic AI (or systems moving towards it) include:\n> \n> * **Self-driving cars:**  These aim to navigate roads and reach destinations autonomously.\n> * **Robotics in manufacturing:** Robots that perform complex tasks on assembly lines with minimal human supervision.\n> * **AI game-playing agents:**  Agents that play games like chess or Go, strategically planning their moves to win.\n> * **AI assistants that proactively manage tasks:**  These go beyond simple command following and anticipate user needs.\n> \n> \n> The development of truly robust and safe agentic AI is a significant challenge, raising ethical concerns about accountability, unintended consequences, and the potential for misuse.  The ability of an AI to act independently introduces complexities not present in simpler AI systems.\n"
          },
          "metadata": {},
          "execution_count": 14
        }
      ]
    }
  ]
}